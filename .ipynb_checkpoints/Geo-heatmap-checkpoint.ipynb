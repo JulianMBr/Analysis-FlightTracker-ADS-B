{
 "cells": [
  {
   "cell_type": "code",
   "execution_count": 2,
   "metadata": {},
   "outputs": [
    {
     "data": {
      "application/javascript": [
       "IPython.notebook.set_autosave_interval(0)"
      ]
     },
     "metadata": {},
     "output_type": "display_data"
    },
    {
     "name": "stdout",
     "output_type": "stream",
     "text": [
      "Autosave disabled\n"
     ]
    },
    {
     "data": {
      "text/html": [
       "<div>\n",
       "<table border=\"1\" class=\"dataframe\">\n",
       "  <thead>\n",
       "    <tr style=\"text-align: right;\">\n",
       "      <th></th>\n",
       "      <th>Unnamed: 0</th>\n",
       "      <th>msgId</th>\n",
       "      <th>hexId</th>\n",
       "      <th>logtime</th>\n",
       "      <th>coordinates</th>\n",
       "      <th>logsign</th>\n",
       "      <th>altitude</th>\n",
       "      <th>speed</th>\n",
       "      <th>track</th>\n",
       "      <th>vertical</th>\n",
       "      <th>X(coordinates)</th>\n",
       "      <th>Y(coordinates)</th>\n",
       "    </tr>\n",
       "  </thead>\n",
       "  <tbody>\n",
       "    <tr>\n",
       "      <th>0</th>\n",
       "      <td>0</td>\n",
       "      <td>1</td>\n",
       "      <td>3c49cc</td>\n",
       "      <td>2017-04-16 00:56:54</td>\n",
       "      <td>b'\\x00\\x00\\x00\\x00\\x01\\x01\\x00\\x00\\x00\\xe0\\x81...</td>\n",
       "      <td>undefin</td>\n",
       "      <td>37550</td>\n",
       "      <td>437</td>\n",
       "      <td>17</td>\n",
       "      <td>-576</td>\n",
       "      <td>49.883286</td>\n",
       "      <td>6.300442</td>\n",
       "    </tr>\n",
       "    <tr>\n",
       "      <th>1</th>\n",
       "      <td>1</td>\n",
       "      <td>2</td>\n",
       "      <td>3c49cc</td>\n",
       "      <td>2017-04-16 00:56:57</td>\n",
       "      <td>b'\\x00\\x00\\x00\\x00\\x01\\x01\\x00\\x00\\x00\\xe0\\x81...</td>\n",
       "      <td>undefin</td>\n",
       "      <td>37550</td>\n",
       "      <td>437</td>\n",
       "      <td>17</td>\n",
       "      <td>-576</td>\n",
       "      <td>49.883286</td>\n",
       "      <td>6.300442</td>\n",
       "    </tr>\n",
       "  </tbody>\n",
       "</table>\n",
       "</div>"
      ],
      "text/plain": [
       "   Unnamed: 0  msgId   hexId             logtime  \\\n",
       "0           0      1  3c49cc 2017-04-16 00:56:54   \n",
       "1           1      2  3c49cc 2017-04-16 00:56:57   \n",
       "\n",
       "                                         coordinates  logsign  altitude  \\\n",
       "0  b'\\x00\\x00\\x00\\x00\\x01\\x01\\x00\\x00\\x00\\xe0\\x81...  undefin     37550   \n",
       "1  b'\\x00\\x00\\x00\\x00\\x01\\x01\\x00\\x00\\x00\\xe0\\x81...  undefin     37550   \n",
       "\n",
       "   speed  track  vertical  X(coordinates)  Y(coordinates)  \n",
       "0    437     17      -576       49.883286        6.300442  \n",
       "1    437     17      -576       49.883286        6.300442  "
      ]
     },
     "execution_count": 2,
     "metadata": {},
     "output_type": "execute_result"
    }
   ],
   "source": [
    "%autosave 0\n",
    "\n",
    "# import libraries\n",
    "import numpy as np\n",
    "import pandas as pd\n",
    "from pandas import DataFrame, Series\n",
    "import calendar\n",
    "\n",
    "# libraries and settings\n",
    "import folium\n",
    "from folium import plugins\n",
    "\n",
    "### list of all months\n",
    "months = list(calendar.month_name)\n",
    "\n",
    "# read data\n",
    "df = pd.read_csv('../export_20170424-190554.csv', sep='\\t', parse_dates=['logtime'])\n",
    "df.head(2)"
   ]
  },
  {
   "cell_type": "code",
   "execution_count": 27,
   "metadata": {
    "collapsed": true
   },
   "outputs": [],
   "source": [
    "flightLogMatrix = df[['X(coordinates)', 'Y(coordinates)']].as_matrix()\n",
    "\n",
    "#m = folium.Map(location=[lat-y, long-x], zoom_start=9)\n",
    "m = folium.Map(location=[49.727280, 5.985136], zoom_start=9, tiles='Stamen Terrain')\n",
    "\n",
    "# I am using the magnitude as the weight for the heatmap\n",
    "m.add_child(plugins.HeatMap(flightLogMatrix, min_opacity=0.005, radius=9, blur=0.3))\n",
    "m.save('tmp/map.html')"
   ]
  },
  {
   "cell_type": "code",
   "execution_count": null,
   "metadata": {
    "collapsed": true
   },
   "outputs": [],
   "source": []
  }
 ],
 "metadata": {
  "kernelspec": {
   "display_name": "Python 3",
   "language": "python",
   "name": "python3"
  },
  "language_info": {
   "codemirror_mode": {
    "name": "ipython",
    "version": 3
   },
   "file_extension": ".py",
   "mimetype": "text/x-python",
   "name": "python",
   "nbconvert_exporter": "python",
   "pygments_lexer": "ipython3",
   "version": "3.4.3"
  }
 },
 "nbformat": 4,
 "nbformat_minor": 2
}
