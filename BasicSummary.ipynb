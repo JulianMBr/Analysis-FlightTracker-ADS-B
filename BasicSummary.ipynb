{
 "cells": [
  {
   "cell_type": "code",
   "execution_count": 13,
   "metadata": {},
   "outputs": [
    {
     "data": {
      "application/javascript": [
       "IPython.notebook.set_autosave_interval(0)"
      ]
     },
     "metadata": {},
     "output_type": "display_data"
    },
    {
     "name": "stdout",
     "output_type": "stream",
     "text": [
      "Autosave disabled\n"
     ]
    }
   ],
   "source": [
    "%autosave 0\n",
    "\n",
    "# import libraries\n",
    "import numpy as np\n",
    "import pandas as pd\n",
    "from pandas import DataFrame, Series\n",
    "import calendar\n",
    "\n",
    "# libraries and settings\n",
    "%matplotlib inline\n",
    "import matplotlib as mpl\n",
    "import matplotlib.pyplot as plt\n",
    "import seaborn as sns\n",
    "import pymysql.cursors\n",
    "\n",
    "# set config seaborn\n",
    "sns.set(style=\"whitegrid\", color_codes=True)\n",
    "\n",
    "### list of all months\n",
    "months = list(calendar.month_name)"
   ]
  },
  {
   "cell_type": "code",
   "execution_count": 14,
   "metadata": {
    "collapsed": true
   },
   "outputs": [],
   "source": [
    "df = pd.read_csv('../export_20170422-111644.csv', sep='\\t', parse_dates=['logtime'])"
   ]
  },
  {
   "cell_type": "code",
   "execution_count": 15,
   "metadata": {
    "scrolled": false
   },
   "outputs": [
    {
     "data": {
      "text/html": [
       "<div>\n",
       "<table border=\"1\" class=\"dataframe\">\n",
       "  <thead>\n",
       "    <tr style=\"text-align: right;\">\n",
       "      <th></th>\n",
       "      <th>Unnamed: 0</th>\n",
       "      <th>msgId</th>\n",
       "      <th>hexId</th>\n",
       "      <th>logtime</th>\n",
       "      <th>coordinates</th>\n",
       "      <th>logsign</th>\n",
       "      <th>altitude</th>\n",
       "      <th>speed</th>\n",
       "      <th>track</th>\n",
       "      <th>vertical</th>\n",
       "    </tr>\n",
       "  </thead>\n",
       "  <tbody>\n",
       "    <tr>\n",
       "      <th>0</th>\n",
       "      <td>0</td>\n",
       "      <td>1</td>\n",
       "      <td>3c49cc</td>\n",
       "      <td>2017-04-16 00:56:54</td>\n",
       "      <td>b'\\x00\\x00\\x00\\x00\\x01\\x01\\x00\\x00\\x00\\xe0\\x81...</td>\n",
       "      <td>undefin</td>\n",
       "      <td>37550</td>\n",
       "      <td>437</td>\n",
       "      <td>17</td>\n",
       "      <td>-576</td>\n",
       "    </tr>\n",
       "    <tr>\n",
       "      <th>1</th>\n",
       "      <td>1</td>\n",
       "      <td>2</td>\n",
       "      <td>3c49cc</td>\n",
       "      <td>2017-04-16 00:56:57</td>\n",
       "      <td>b'\\x00\\x00\\x00\\x00\\x01\\x01\\x00\\x00\\x00\\xe0\\x81...</td>\n",
       "      <td>undefin</td>\n",
       "      <td>37550</td>\n",
       "      <td>437</td>\n",
       "      <td>17</td>\n",
       "      <td>-576</td>\n",
       "    </tr>\n",
       "  </tbody>\n",
       "</table>\n",
       "</div>"
      ],
      "text/plain": [
       "   Unnamed: 0  msgId   hexId             logtime  \\\n",
       "0           0      1  3c49cc 2017-04-16 00:56:54   \n",
       "1           1      2  3c49cc 2017-04-16 00:56:57   \n",
       "\n",
       "                                         coordinates  logsign  altitude  \\\n",
       "0  b'\\x00\\x00\\x00\\x00\\x01\\x01\\x00\\x00\\x00\\xe0\\x81...  undefin     37550   \n",
       "1  b'\\x00\\x00\\x00\\x00\\x01\\x01\\x00\\x00\\x00\\xe0\\x81...  undefin     37550   \n",
       "\n",
       "   speed  track  vertical  \n",
       "0    437     17      -576  \n",
       "1    437     17      -576  "
      ]
     },
     "execution_count": 15,
     "metadata": {},
     "output_type": "execute_result"
    }
   ],
   "source": [
    "df.head(2)"
   ]
  },
  {
   "cell_type": "code",
   "execution_count": 16,
   "metadata": {},
   "outputs": [
    {
     "data": {
      "text/plain": [
       "hexId              object\n",
       "logtime    datetime64[ns]\n",
       "dtype: object"
      ]
     },
     "execution_count": 16,
     "metadata": {},
     "output_type": "execute_result"
    }
   ],
   "source": [
    "fLog = df[['hexId', 'logtime']]\n",
    "fLog.dtypes"
   ]
  },
  {
   "cell_type": "code",
   "execution_count": 17,
   "metadata": {
    "collapsed": true
   },
   "outputs": [],
   "source": [
    "#fLogGrouped = fLog.groupby('logtime').count()\n",
    "fLogGrouped = fLog"
   ]
  },
  {
   "cell_type": "code",
   "execution_count": 18,
   "metadata": {},
   "outputs": [
    {
     "name": "stderr",
     "output_type": "stream",
     "text": [
      "/opt/ds/lib/python3.4/site-packages/matplotlib/font_manager.py:1297: UserWarning: findfont: Font family ['sans-serif'] not found. Falling back to DejaVu Sans\n",
      "  (prop.get_family(), self.defaultFamily[fontext]))\n"
     ]
    },
    {
     "data": {
      "text/plain": [
       "<matplotlib.axes._subplots.AxesSubplot at 0x7f8dbc3d1c18>"
      ]
     },
     "execution_count": 18,
     "metadata": {},
     "output_type": "execute_result"
    },
    {
     "data": {
      "image/png": "[encoded data removed]",
      "text/plain": [
       "<matplotlib.figure.Figure at 0x7f8db02f9320>"
      ]
     },
     "metadata": {},
     "output_type": "display_data"
    }
   ],
   "source": [
    "# Tracked flights per Day\n",
    "fLogGroupedMonth = fLogGrouped.set_index('logtime').groupby(pd.TimeGrouper('D')).count().dropna().reset_index()\n",
    "\n",
    "# \n",
    "flightLog = pd.DataFrame([])\n",
    "flightLog['year'] = fLogGroupedMonth['logtime'].dt.year\n",
    "flightLog['month'] = fLogGroupedMonth['logtime'].dt.month\n",
    "flightLog['day'] = fLogGroupedMonth['logtime'].dt.day\n",
    "flightLog['count'] = fLogGroupedMonth['hexId']\n",
    "flightLog['month'] = flightLog['month'].apply(lambda x: calendar.month_name[x])\n",
    "flightLog['year-month'] = flightLog['month'] + '-' + fLogGroupedMonth['logtime'].dt.year.astype(str)\n",
    "\n",
    "flights = flightLog.pivot( \"year-month\", \"day\", \"count\")\n",
    "\n",
    "# adjust size of figure and output heatmap\n",
    "sns.mpl.rc(\"figure\", figsize=(20,0.5))\n",
    "sns.plt.title('Tracked flights per day')\n",
    "sns.heatmap(flights, annot=True, fmt='g', linewidths=0.5, cbar=False)"
   ]
  },
  {
   "cell_type": "code",
   "execution_count": 19,
   "metadata": {},
   "outputs": [
    {
     "name": "stderr",
     "output_type": "stream",
     "text": [
      "/opt/ds/lib/python3.4/site-packages/matplotlib/font_manager.py:1297: UserWarning: findfont: Font family ['sans-serif'] not found. Falling back to DejaVu Sans\n",
      "  (prop.get_family(), self.defaultFamily[fontext]))\n"
     ]
    },
    {
     "data": {
      "text/plain": [
       "<matplotlib.axes._subplots.AxesSubplot at 0x7f8dae311b00>"
      ]
     },
     "execution_count": 19,
     "metadata": {},
     "output_type": "execute_result"
    },
    {
     "data": {
      "image/png": "[encoded data removed]",
      "text/plain": [
       "<matplotlib.figure.Figure at 0x7f8dae313f98>"
      ]
     },
     "metadata": {},
     "output_type": "display_data"
    }
   ],
   "source": [
    "# Tracked flights per Hour / Day\n",
    "fLogGroupedDay = fLogGrouped.set_index('logtime').groupby(pd.TimeGrouper('H')).count().dropna().reset_index()\n",
    "\n",
    "flightLog = pd.DataFrame([])\n",
    "flightLog['year'] = fLogGroupedDay['logtime'].dt.year\n",
    "flightLog['month'] = fLogGroupedDay['logtime'].dt.month\n",
    "flightLog['day'] = fLogGroupedDay['logtime'].dt.day\n",
    "flightLog['hour'] = fLogGroupedDay['logtime'].dt.hour\n",
    "flightLog['count'] = fLogGroupedDay['hexId']\n",
    "flightLog['month'] = flightLog['month'].apply(lambda x: calendar.month_name[x])\n",
    "flightLog['year-month'] = flightLog['month'] + '-' + fLogGroupedDay['logtime'].dt.year.astype(str)\n",
    "\n",
    "flightsDay = flightLog.pivot( \"day\", \"hour\", \"count\")\n",
    "\n",
    "# adjust size of figure and output heatmap\n",
    "sns.mpl.rc(\"figure\", figsize=(20,4))\n",
    "sns.plt.title('Tracked flights per hour')\n",
    "sns.heatmap(flightsDay, annot=False, fmt='g', linewidths=0.5, cbar=True)"
   ]
  }
 ],
 "metadata": {
  "kernelspec": {
   "display_name": "Python 3",
   "language": "python",
   "name": "python3"
  },
  "language_info": {
   "codemirror_mode": {
    "name": "ipython",
    "version": 3
   },
   "file_extension": ".py",
   "mimetype": "text/x-python",
   "name": "python",
   "nbconvert_exporter": "python",
   "pygments_lexer": "ipython3",
   "version": "3.4.3"
  }
 },
 "nbformat": 4,
 "nbformat_minor": 1
}
